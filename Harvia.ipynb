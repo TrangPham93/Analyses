{
 "cells": [
  {
   "cell_type": "code",
   "execution_count": 5,
   "id": "dedicated-edward",
   "metadata": {},
   "outputs": [],
   "source": [
    "import numpy as np\n",
    "import pandas as pd\n",
    "import pandas_datareader as pdr\n",
    "import matplotlib.pyplot as plt\n",
    "import numpy_financial as npf\n",
    "%matplotlib inline"
   ]
  },
  {
   "cell_type": "code",
   "execution_count": 28,
   "id": "coordinate-given",
   "metadata": {},
   "outputs": [
    {
     "data": {
      "text/html": [
       "<div>\n",
       "<style scoped>\n",
       "    .dataframe tbody tr th:only-of-type {\n",
       "        vertical-align: middle;\n",
       "    }\n",
       "\n",
       "    .dataframe tbody tr th {\n",
       "        vertical-align: top;\n",
       "    }\n",
       "\n",
       "    .dataframe thead th {\n",
       "        text-align: right;\n",
       "    }\n",
       "</style>\n",
       "<table border=\"1\" class=\"dataframe\">\n",
       "  <thead>\n",
       "    <tr style=\"text-align: right;\">\n",
       "      <th></th>\n",
       "      <th>High</th>\n",
       "      <th>Low</th>\n",
       "      <th>Open</th>\n",
       "      <th>Close</th>\n",
       "      <th>Volume</th>\n",
       "      <th>Adj Close</th>\n",
       "    </tr>\n",
       "    <tr>\n",
       "      <th>Date</th>\n",
       "      <th></th>\n",
       "      <th></th>\n",
       "      <th></th>\n",
       "      <th></th>\n",
       "      <th></th>\n",
       "      <th></th>\n",
       "    </tr>\n",
       "  </thead>\n",
       "  <tbody>\n",
       "    <tr>\n",
       "      <th>2018-03-22</th>\n",
       "      <td>5.120</td>\n",
       "      <td>5.00</td>\n",
       "      <td>5.100</td>\n",
       "      <td>5.00</td>\n",
       "      <td>3165965.0</td>\n",
       "      <td>4.421191</td>\n",
       "    </tr>\n",
       "    <tr>\n",
       "      <th>2018-03-23</th>\n",
       "      <td>5.040</td>\n",
       "      <td>5.00</td>\n",
       "      <td>5.040</td>\n",
       "      <td>5.03</td>\n",
       "      <td>70366.0</td>\n",
       "      <td>4.447718</td>\n",
       "    </tr>\n",
       "    <tr>\n",
       "      <th>2018-03-26</th>\n",
       "      <td>5.098</td>\n",
       "      <td>5.01</td>\n",
       "      <td>5.098</td>\n",
       "      <td>5.04</td>\n",
       "      <td>15052.0</td>\n",
       "      <td>4.456561</td>\n",
       "    </tr>\n",
       "    <tr>\n",
       "      <th>2018-03-27</th>\n",
       "      <td>5.400</td>\n",
       "      <td>5.04</td>\n",
       "      <td>5.050</td>\n",
       "      <td>5.39</td>\n",
       "      <td>55069.0</td>\n",
       "      <td>4.766044</td>\n",
       "    </tr>\n",
       "    <tr>\n",
       "      <th>2018-03-28</th>\n",
       "      <td>5.400</td>\n",
       "      <td>5.15</td>\n",
       "      <td>5.400</td>\n",
       "      <td>5.30</td>\n",
       "      <td>12995.0</td>\n",
       "      <td>4.686463</td>\n",
       "    </tr>\n",
       "  </tbody>\n",
       "</table>\n",
       "</div>"
      ],
      "text/plain": [
       "             High   Low   Open  Close     Volume  Adj Close\n",
       "Date                                                       \n",
       "2018-03-22  5.120  5.00  5.100   5.00  3165965.0   4.421191\n",
       "2018-03-23  5.040  5.00  5.040   5.03    70366.0   4.447718\n",
       "2018-03-26  5.098  5.01  5.098   5.04    15052.0   4.456561\n",
       "2018-03-27  5.400  5.04  5.050   5.39    55069.0   4.766044\n",
       "2018-03-28  5.400  5.15  5.400   5.30    12995.0   4.686463"
      ]
     },
     "execution_count": 28,
     "metadata": {},
     "output_type": "execute_result"
    }
   ],
   "source": [
    "price = pdr.get_data_yahoo('HARVIA.HE', start = '2013-01-01')\n",
    "\n",
    "price.head()"
   ]
  },
  {
   "cell_type": "code",
   "execution_count": 32,
   "id": "metallic-popularity",
   "metadata": {},
   "outputs": [
    {
     "data": {
      "text/html": [
       "<div>\n",
       "<style scoped>\n",
       "    .dataframe tbody tr th:only-of-type {\n",
       "        vertical-align: middle;\n",
       "    }\n",
       "\n",
       "    .dataframe tbody tr th {\n",
       "        vertical-align: top;\n",
       "    }\n",
       "\n",
       "    .dataframe thead th {\n",
       "        text-align: right;\n",
       "    }\n",
       "</style>\n",
       "<table border=\"1\" class=\"dataframe\">\n",
       "  <thead>\n",
       "    <tr style=\"text-align: right;\">\n",
       "      <th></th>\n",
       "      <th>High</th>\n",
       "      <th>Low</th>\n",
       "      <th>Open</th>\n",
       "      <th>Close</th>\n",
       "      <th>Volume</th>\n",
       "      <th>Adj Close</th>\n",
       "    </tr>\n",
       "    <tr>\n",
       "      <th>Date</th>\n",
       "      <th></th>\n",
       "      <th></th>\n",
       "      <th></th>\n",
       "      <th></th>\n",
       "      <th></th>\n",
       "      <th></th>\n",
       "    </tr>\n",
       "  </thead>\n",
       "  <tbody>\n",
       "    <tr>\n",
       "      <th>2018-03-22</th>\n",
       "      <td>5.12</td>\n",
       "      <td>5.00</td>\n",
       "      <td>5.10</td>\n",
       "      <td>5.00</td>\n",
       "      <td>3165965.0</td>\n",
       "      <td>4.42</td>\n",
       "    </tr>\n",
       "    <tr>\n",
       "      <th>2018-03-23</th>\n",
       "      <td>5.04</td>\n",
       "      <td>5.00</td>\n",
       "      <td>5.04</td>\n",
       "      <td>5.03</td>\n",
       "      <td>70366.0</td>\n",
       "      <td>4.45</td>\n",
       "    </tr>\n",
       "    <tr>\n",
       "      <th>2018-03-26</th>\n",
       "      <td>5.10</td>\n",
       "      <td>5.01</td>\n",
       "      <td>5.10</td>\n",
       "      <td>5.04</td>\n",
       "      <td>15052.0</td>\n",
       "      <td>4.46</td>\n",
       "    </tr>\n",
       "    <tr>\n",
       "      <th>2018-03-27</th>\n",
       "      <td>5.40</td>\n",
       "      <td>5.04</td>\n",
       "      <td>5.05</td>\n",
       "      <td>5.39</td>\n",
       "      <td>55069.0</td>\n",
       "      <td>4.77</td>\n",
       "    </tr>\n",
       "    <tr>\n",
       "      <th>2018-03-28</th>\n",
       "      <td>5.40</td>\n",
       "      <td>5.15</td>\n",
       "      <td>5.40</td>\n",
       "      <td>5.30</td>\n",
       "      <td>12995.0</td>\n",
       "      <td>4.69</td>\n",
       "    </tr>\n",
       "  </tbody>\n",
       "</table>\n",
       "</div>"
      ],
      "text/plain": [
       "            High   Low  Open  Close     Volume  Adj Close\n",
       "Date                                                     \n",
       "2018-03-22  5.12  5.00  5.10   5.00  3165965.0       4.42\n",
       "2018-03-23  5.04  5.00  5.04   5.03    70366.0       4.45\n",
       "2018-03-26  5.10  5.01  5.10   5.04    15052.0       4.46\n",
       "2018-03-27  5.40  5.04  5.05   5.39    55069.0       4.77\n",
       "2018-03-28  5.40  5.15  5.40   5.30    12995.0       4.69"
      ]
     },
     "execution_count": 32,
     "metadata": {},
     "output_type": "execute_result"
    }
   ],
   "source": [
    "price.drop(columns='Adj Close', axis = 1)\n",
    "price = round(price,2)\n",
    "price.head()\n"
   ]
  },
  {
   "cell_type": "code",
   "execution_count": 33,
   "id": "appropriate-independence",
   "metadata": {},
   "outputs": [
    {
     "data": {
      "image/png": "[encoded data removed]",
      "text/plain": [
       "<Figure size 432x288 with 1 Axes>"
      ]
     },
     "metadata": {},
     "output_type": "display_data"
    }
   ],
   "source": [
    "with plt.style.context('ggplot'):\n",
    "    plt.plot(price['Close'])"
   ]
  },
  {
   "cell_type": "code",
   "execution_count": 36,
   "id": "comfortable-contents",
   "metadata": {},
   "outputs": [
    {
     "data": {
      "text/html": [
       "<div>\n",
       "<style scoped>\n",
       "    .dataframe tbody tr th:only-of-type {\n",
       "        vertical-align: middle;\n",
       "    }\n",
       "\n",
       "    .dataframe tbody tr th {\n",
       "        vertical-align: top;\n",
       "    }\n",
       "\n",
       "    .dataframe thead th {\n",
       "        text-align: right;\n",
       "    }\n",
       "</style>\n",
       "<table border=\"1\" class=\"dataframe\">\n",
       "  <thead>\n",
       "    <tr style=\"text-align: right;\">\n",
       "      <th></th>\n",
       "      <th>High</th>\n",
       "      <th>Low</th>\n",
       "      <th>Open</th>\n",
       "      <th>Close</th>\n",
       "      <th>Volume</th>\n",
       "      <th>Adj Close</th>\n",
       "    </tr>\n",
       "    <tr>\n",
       "      <th>Date</th>\n",
       "      <th></th>\n",
       "      <th></th>\n",
       "      <th></th>\n",
       "      <th></th>\n",
       "      <th></th>\n",
       "      <th></th>\n",
       "    </tr>\n",
       "  </thead>\n",
       "  <tbody>\n",
       "    <tr>\n",
       "      <th>2018-03-30</th>\n",
       "      <td>5.38</td>\n",
       "      <td>5.29</td>\n",
       "      <td>5.38</td>\n",
       "      <td>5.30</td>\n",
       "      <td>7364.0</td>\n",
       "      <td>4.69</td>\n",
       "    </tr>\n",
       "    <tr>\n",
       "      <th>2018-04-30</th>\n",
       "      <td>4.95</td>\n",
       "      <td>4.92</td>\n",
       "      <td>4.95</td>\n",
       "      <td>4.94</td>\n",
       "      <td>3191.0</td>\n",
       "      <td>4.37</td>\n",
       "    </tr>\n",
       "    <tr>\n",
       "      <th>2018-05-31</th>\n",
       "      <td>6.22</td>\n",
       "      <td>6.15</td>\n",
       "      <td>6.20</td>\n",
       "      <td>6.17</td>\n",
       "      <td>34886.0</td>\n",
       "      <td>5.46</td>\n",
       "    </tr>\n",
       "    <tr>\n",
       "      <th>2018-06-29</th>\n",
       "      <td>6.14</td>\n",
       "      <td>6.00</td>\n",
       "      <td>6.14</td>\n",
       "      <td>6.00</td>\n",
       "      <td>757.0</td>\n",
       "      <td>5.31</td>\n",
       "    </tr>\n",
       "    <tr>\n",
       "      <th>2018-07-31</th>\n",
       "      <td>6.00</td>\n",
       "      <td>5.97</td>\n",
       "      <td>5.97</td>\n",
       "      <td>6.00</td>\n",
       "      <td>133.0</td>\n",
       "      <td>5.31</td>\n",
       "    </tr>\n",
       "  </tbody>\n",
       "</table>\n",
       "</div>"
      ],
      "text/plain": [
       "            High   Low  Open  Close   Volume  Adj Close\n",
       "Date                                                   \n",
       "2018-03-30  5.38  5.29  5.38   5.30   7364.0       4.69\n",
       "2018-04-30  4.95  4.92  4.95   4.94   3191.0       4.37\n",
       "2018-05-31  6.22  6.15  6.20   6.17  34886.0       5.46\n",
       "2018-06-29  6.14  6.00  6.14   6.00    757.0       5.31\n",
       "2018-07-31  6.00  5.97  5.97   6.00    133.0       5.31"
      ]
     },
     "execution_count": 36,
     "metadata": {},
     "output_type": "execute_result"
    }
   ],
   "source": [
    "# monthly sample\n",
    "price.index = pd.DatetimeIndex(price.index)\n",
    "price_monthly = price.resample('BM').last() #the last business day of month\n",
    "price_monthly.head()\n"
   ]
  },
  {
   "cell_type": "code",
   "execution_count": 47,
   "id": "joined-times",
   "metadata": {},
   "outputs": [
    {
     "data": {
      "text/plain": [
       "(array([17652., 17775., 17897., 18017., 18140., 18262., 18383., 18506.,\n",
       "        18628., 18748.]),\n",
       " [Text(0, 0, ''),\n",
       "  Text(0, 0, ''),\n",
       "  Text(0, 0, ''),\n",
       "  Text(0, 0, ''),\n",
       "  Text(0, 0, ''),\n",
       "  Text(0, 0, ''),\n",
       "  Text(0, 0, ''),\n",
       "  Text(0, 0, ''),\n",
       "  Text(0, 0, ''),\n",
       "  Text(0, 0, '')])"
      ]
     },
     "execution_count": 47,
     "metadata": {},
     "output_type": "execute_result"
    },
    {
     "data": {
      "image/png": "[encoded data removed]",
      "text/plain": [
       "<Figure size 720x360 with 1 Axes>"
      ]
     },
     "metadata": {
      "needs_background": "light"
     },
     "output_type": "display_data"
    }
   ],
   "source": [
    "plt.figure(figsize=(10,5))\n",
    "plt.plot(price_monthly['Close'])\n",
    "plt.xticks(rotation=60)"
   ]
  },
  {
   "cell_type": "markdown",
   "id": "external-millennium",
   "metadata": {},
   "source": [
    "# Moving Average"
   ]
  },
  {
   "cell_type": "code",
   "execution_count": 51,
   "id": "fluid-pharmaceutical",
   "metadata": {},
   "outputs": [
    {
     "data": {
      "text/html": [
       "<div>\n",
       "<style scoped>\n",
       "    .dataframe tbody tr th:only-of-type {\n",
       "        vertical-align: middle;\n",
       "    }\n",
       "\n",
       "    .dataframe tbody tr th {\n",
       "        vertical-align: top;\n",
       "    }\n",
       "\n",
       "    .dataframe thead th {\n",
       "        text-align: right;\n",
       "    }\n",
       "</style>\n",
       "<table border=\"1\" class=\"dataframe\">\n",
       "  <thead>\n",
       "    <tr style=\"text-align: right;\">\n",
       "      <th></th>\n",
       "      <th>High</th>\n",
       "      <th>Low</th>\n",
       "      <th>Open</th>\n",
       "      <th>Close</th>\n",
       "      <th>Volume</th>\n",
       "      <th>Adj Close</th>\n",
       "      <th>5-day</th>\n",
       "    </tr>\n",
       "    <tr>\n",
       "      <th>Date</th>\n",
       "      <th></th>\n",
       "      <th></th>\n",
       "      <th></th>\n",
       "      <th></th>\n",
       "      <th></th>\n",
       "      <th></th>\n",
       "      <th></th>\n",
       "    </tr>\n",
       "  </thead>\n",
       "  <tbody>\n",
       "    <tr>\n",
       "      <th>2018-03-22</th>\n",
       "      <td>5.12</td>\n",
       "      <td>5.00</td>\n",
       "      <td>5.10</td>\n",
       "      <td>5.00</td>\n",
       "      <td>3165965.0</td>\n",
       "      <td>4.42</td>\n",
       "      <td>NaN</td>\n",
       "    </tr>\n",
       "    <tr>\n",
       "      <th>2018-03-23</th>\n",
       "      <td>5.04</td>\n",
       "      <td>5.00</td>\n",
       "      <td>5.04</td>\n",
       "      <td>5.03</td>\n",
       "      <td>70366.0</td>\n",
       "      <td>4.45</td>\n",
       "      <td>NaN</td>\n",
       "    </tr>\n",
       "    <tr>\n",
       "      <th>2018-03-26</th>\n",
       "      <td>5.10</td>\n",
       "      <td>5.01</td>\n",
       "      <td>5.10</td>\n",
       "      <td>5.04</td>\n",
       "      <td>15052.0</td>\n",
       "      <td>4.46</td>\n",
       "      <td>NaN</td>\n",
       "    </tr>\n",
       "    <tr>\n",
       "      <th>2018-03-27</th>\n",
       "      <td>5.40</td>\n",
       "      <td>5.04</td>\n",
       "      <td>5.05</td>\n",
       "      <td>5.39</td>\n",
       "      <td>55069.0</td>\n",
       "      <td>4.77</td>\n",
       "      <td>NaN</td>\n",
       "    </tr>\n",
       "    <tr>\n",
       "      <th>2018-03-28</th>\n",
       "      <td>5.40</td>\n",
       "      <td>5.15</td>\n",
       "      <td>5.40</td>\n",
       "      <td>5.30</td>\n",
       "      <td>12995.0</td>\n",
       "      <td>4.69</td>\n",
       "      <td>NaN</td>\n",
       "    </tr>\n",
       "    <tr>\n",
       "      <th>2018-03-29</th>\n",
       "      <td>5.38</td>\n",
       "      <td>5.29</td>\n",
       "      <td>5.38</td>\n",
       "      <td>5.30</td>\n",
       "      <td>7364.0</td>\n",
       "      <td>4.69</td>\n",
       "      <td>5.152</td>\n",
       "    </tr>\n",
       "    <tr>\n",
       "      <th>2018-04-03</th>\n",
       "      <td>5.31</td>\n",
       "      <td>5.25</td>\n",
       "      <td>5.31</td>\n",
       "      <td>5.30</td>\n",
       "      <td>4410.0</td>\n",
       "      <td>4.69</td>\n",
       "      <td>5.212</td>\n",
       "    </tr>\n",
       "    <tr>\n",
       "      <th>2018-04-04</th>\n",
       "      <td>5.39</td>\n",
       "      <td>5.25</td>\n",
       "      <td>5.38</td>\n",
       "      <td>5.30</td>\n",
       "      <td>20600.0</td>\n",
       "      <td>4.69</td>\n",
       "      <td>5.266</td>\n",
       "    </tr>\n",
       "    <tr>\n",
       "      <th>2018-04-05</th>\n",
       "      <td>5.30</td>\n",
       "      <td>5.21</td>\n",
       "      <td>5.29</td>\n",
       "      <td>5.22</td>\n",
       "      <td>7665.0</td>\n",
       "      <td>4.62</td>\n",
       "      <td>5.318</td>\n",
       "    </tr>\n",
       "    <tr>\n",
       "      <th>2018-04-06</th>\n",
       "      <td>5.25</td>\n",
       "      <td>5.20</td>\n",
       "      <td>5.22</td>\n",
       "      <td>5.24</td>\n",
       "      <td>2799.0</td>\n",
       "      <td>4.63</td>\n",
       "      <td>5.284</td>\n",
       "    </tr>\n",
       "  </tbody>\n",
       "</table>\n",
       "</div>"
      ],
      "text/plain": [
       "            High   Low  Open  Close     Volume  Adj Close  5-day\n",
       "Date                                                            \n",
       "2018-03-22  5.12  5.00  5.10   5.00  3165965.0       4.42    NaN\n",
       "2018-03-23  5.04  5.00  5.04   5.03    70366.0       4.45    NaN\n",
       "2018-03-26  5.10  5.01  5.10   5.04    15052.0       4.46    NaN\n",
       "2018-03-27  5.40  5.04  5.05   5.39    55069.0       4.77    NaN\n",
       "2018-03-28  5.40  5.15  5.40   5.30    12995.0       4.69    NaN\n",
       "2018-03-29  5.38  5.29  5.38   5.30     7364.0       4.69  5.152\n",
       "2018-04-03  5.31  5.25  5.31   5.30     4410.0       4.69  5.212\n",
       "2018-04-04  5.39  5.25  5.38   5.30    20600.0       4.69  5.266\n",
       "2018-04-05  5.30  5.21  5.29   5.22     7665.0       4.62  5.318\n",
       "2018-04-06  5.25  5.20  5.22   5.24     2799.0       4.63  5.284"
      ]
     },
     "execution_count": 51,
     "metadata": {},
     "output_type": "execute_result"
    }
   ],
   "source": [
    "price['5-day']=price['Close'].rolling(5).mean().shift()\n",
    "price.head(10)\n"
   ]
  },
  {
   "cell_type": "code",
   "execution_count": 80,
   "id": "boxed-monkey",
   "metadata": {},
   "outputs": [
    {
     "data": {
      "image/png": "[encoded data removed]",
      "text/plain": [
       "<Figure size 864x576 with 1 Axes>"
      ]
     },
     "metadata": {},
     "output_type": "display_data"
    }
   ],
   "source": [
    "with plt.style.context('ggplot'):\n",
    "    plt.figure(figsize=(12,8))\n",
    "    plt.plot(price['Close'][-180:],label='Close',color='green')\n",
    "    plt.plot(price['5-day'][-180:],label='5-day',color = 'orange')\n",
    "    plt.legend(loc=2)\n",
    "   "
   ]
  },
  {
   "cell_type": "code",
   "execution_count": 83,
   "id": "incoming-formula",
   "metadata": {},
   "outputs": [
    {
     "data": {
      "text/plain": [
       "Date\n",
       "2018-03-22      NaN\n",
       "2018-03-23      NaN\n",
       "2018-03-26      NaN\n",
       "2018-03-27      NaN\n",
       "2018-03-28      NaN\n",
       "2018-03-29    0.148\n",
       "2018-04-03    0.088\n",
       "2018-04-04    0.034\n",
       "2018-04-05    0.098\n",
       "2018-04-06    0.044\n",
       "Name: MAD, dtype: float64"
      ]
     },
     "execution_count": 83,
     "metadata": {},
     "output_type": "execute_result"
    }
   ],
   "source": [
    "# Mean absolute deviation\n",
    "price['MAD']=np.abs(price['Close']-price['5-day'])\n",
    "price['MAD'].head(10)"
   ]
  },
  {
   "cell_type": "code",
   "execution_count": 84,
   "id": "german-neutral",
   "metadata": {},
   "outputs": [
    {
     "data": {
      "text/plain": [
       "0.3458358585858586"
      ]
     },
     "execution_count": 84,
     "metadata": {},
     "output_type": "execute_result"
    }
   ],
   "source": [
    "price['MAD'].mean()"
   ]
  },
  {
   "cell_type": "code",
   "execution_count": 86,
   "id": "alert-individual",
   "metadata": {},
   "outputs": [
    {
     "data": {
      "text/plain": [
       "Date\n",
       "2018-03-22         NaN\n",
       "2018-03-23         NaN\n",
       "2018-03-26         NaN\n",
       "2018-03-27         NaN\n",
       "2018-03-28         NaN\n",
       "2018-03-29    0.027925\n",
       "2018-04-03    0.016604\n",
       "2018-04-04    0.006415\n",
       "2018-04-05    0.018774\n",
       "2018-04-06    0.008397\n",
       "Name: MAPE, dtype: float64"
      ]
     },
     "execution_count": 86,
     "metadata": {},
     "output_type": "execute_result"
    }
   ],
   "source": [
    "# Mean absolute percentage error\n",
    "price['MAPE']= price['MAD']/price['Close']\n",
    "price['MAPE'].head(10)"
   ]
  },
  {
   "cell_type": "code",
   "execution_count": 88,
   "id": "delayed-fitting",
   "metadata": {},
   "outputs": [
    {
     "data": {
      "text/plain": [
       "0.024092473924989567"
      ]
     },
     "execution_count": 88,
     "metadata": {},
     "output_type": "execute_result"
    }
   ],
   "source": [
    "price['MAPE'].mean()"
   ]
  },
  {
   "cell_type": "code",
   "execution_count": 89,
   "id": "adopted-element",
   "metadata": {},
   "outputs": [
    {
     "data": {
      "text/plain": [
       "Date\n",
       "2018-03-22         NaN\n",
       "2018-03-23         NaN\n",
       "2018-03-26         NaN\n",
       "2018-03-27         NaN\n",
       "2018-03-28         NaN\n",
       "2018-03-29    0.021904\n",
       "2018-04-03    0.007744\n",
       "2018-04-04    0.001156\n",
       "2018-04-05    0.009604\n",
       "2018-04-06    0.001936\n",
       "Name: MSE, dtype: float64"
      ]
     },
     "execution_count": 89,
     "metadata": {},
     "output_type": "execute_result"
    }
   ],
   "source": [
    "# Mean square error\n",
    "price['MSE']=price['MAD']**2\n",
    "price['MSE'].head(10)"
   ]
  },
  {
   "cell_type": "code",
   "execution_count": 92,
   "id": "honey-stock",
   "metadata": {},
   "outputs": [
    {
     "data": {
      "text/plain": [
       "0.5216072676767678"
      ]
     },
     "execution_count": 92,
     "metadata": {},
     "output_type": "execute_result"
    }
   ],
   "source": [
    "MSE=price['MSE'].mean()\n",
    "MSE"
   ]
  },
  {
   "cell_type": "code",
   "execution_count": 94,
   "id": "vanilla-parent",
   "metadata": {},
   "outputs": [
    {
     "data": {
      "text/plain": [
       "0.7222238348855345"
      ]
     },
     "execution_count": 94,
     "metadata": {},
     "output_type": "execute_result"
    }
   ],
   "source": [
    "# Root mean squre error\n",
    "RMSE = np.sqrt(MSE)\n",
    "RMSE"
   ]
  },
  {
   "cell_type": "code",
   "execution_count": 95,
   "id": "internal-representation",
   "metadata": {},
   "outputs": [],
   "source": [
    "## Note: based on Moving average forecast, when closing price is higher than the predicted price, signal to sell and vice versa. "
   ]
  }
 ],
 "metadata": {
  "kernelspec": {
   "display_name": "Python 3",
   "language": "python",
   "name": "python3"
  },
  "language_info": {
   "codemirror_mode": {
    "name": "ipython",
    "version": 3
   },
   "file_extension": ".py",
   "mimetype": "text/x-python",
   "name": "python",
   "nbconvert_exporter": "python",
   "pygments_lexer": "ipython3",
   "version": "3.7.10"
  }
 },
 "nbformat": 4,
 "nbformat_minor": 5
}
